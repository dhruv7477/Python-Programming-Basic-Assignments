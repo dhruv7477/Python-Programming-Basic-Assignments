{
 "cells": [
  {
   "cell_type": "raw",
   "metadata": {},
   "source": [
    "1. Write a Python Program to Display Fibonacci Sequence Using Recursion?\n",
    "Ans 1."
   ]
  },
  {
   "cell_type": "code",
   "execution_count": 3,
   "metadata": {},
   "outputs": [
    {
     "name": "stdout",
     "output_type": "stream",
     "text": [
      "Enter the number of terms you want:6\n",
      "Fibonacci Sequence: \n",
      "0\n",
      "1\n",
      "1\n",
      "2\n",
      "3\n",
      "5\n"
     ]
    }
   ],
   "source": [
    "a = int(input(\"Enter the number of terms you want:\"))\n",
    "def recur_fibo(a):\n",
    "    if a <= 1:\n",
    "        return a\n",
    "    else:\n",
    "        return(recur_fibo(a-1) + recur_fibo(a-2))\n",
    "    \n",
    "if a <= 0:\n",
    "    print(\"You can only enter positive integers\")\n",
    "elif a == 1:\n",
    "    print(f\"Fibonacci series upto {a} terms: {a}\")\n",
    "else:\n",
    "    print(\"Fibonacci Sequence: \")\n",
    "    for i in range(a):\n",
    "        print(recur_fibo(i))"
   ]
  },
  {
   "cell_type": "raw",
   "metadata": {},
   "source": [
    "2. Write a Python Program to Find Factorial of Number Using Recursion?\n",
    "Ans 2."
   ]
  },
  {
   "cell_type": "code",
   "execution_count": 5,
   "metadata": {},
   "outputs": [
    {
     "name": "stdout",
     "output_type": "stream",
     "text": [
      "Enter the no. for factorial:4\n",
      "24\n"
     ]
    }
   ],
   "source": [
    "a = int(input(\"Enter the no. for factorial:\"))\n",
    "Fact = 1\n",
    "if a < 0:\n",
    "    print(\"You can only enter natural no.s!\")\n",
    "elif a == 0:\n",
    "    print(\"Factorial of 0 is 1!\")\n",
    "else:\n",
    "    for i in range( 1, a+1):\n",
    "        Fact = Fact*i\n",
    "    print(Fact)"
   ]
  },
  {
   "cell_type": "raw",
   "metadata": {},
   "source": [
    "3. Write a Python Program to calculate your Body Mass Index?\n",
    "Ans 3."
   ]
  },
  {
   "cell_type": "code",
   "execution_count": 7,
   "metadata": {},
   "outputs": [
    {
     "name": "stdout",
     "output_type": "stream",
     "text": [
      "Enter the weight in kg: 60\n",
      "Enter the height in m: 1.62\n",
      "Your calculated BMI is: 22.86236854138088 kg/sq.m\n"
     ]
    }
   ],
   "source": [
    "a = int(input(\"Enter the weight in kg: \"))\n",
    "b = float(input(\"Enter the height in m: \"))\n",
    "\n",
    "print(f\"Your calculated BMI is: {a/(b**2)} kg/sq.m\")"
   ]
  },
  {
   "cell_type": "raw",
   "metadata": {},
   "source": [
    "4. Write a Python Program to calculate the natural logarithm of any number?\n",
    "Ans 4."
   ]
  },
  {
   "cell_type": "code",
   "execution_count": 9,
   "metadata": {},
   "outputs": [
    {
     "name": "stdout",
     "output_type": "stream",
     "text": [
      "Enter the no. for logarithm:5\n",
      "The natural logarithm of 5.0 is 1.6094379124341003\n"
     ]
    }
   ],
   "source": [
    "import math\n",
    "a = float(input(\"Enter the no. for logarithm:\"))\n",
    "print(f\"The natural logarithm of {a} is {math.log(a)}\")"
   ]
  },
  {
   "cell_type": "raw",
   "metadata": {},
   "source": [
    "5. Write a Python Program for cube sum of first n natural numbers?\n",
    "Ans 5."
   ]
  },
  {
   "cell_type": "code",
   "execution_count": 20,
   "metadata": {},
   "outputs": [
    {
     "name": "stdout",
     "output_type": "stream",
     "text": [
      "Enter the no. upto which you want to sum: 5\n",
      "225\n"
     ]
    }
   ],
   "source": [
    "a = int(input(\"Enter the no. upto which you want to sum: \"))\n",
    "count = 0\n",
    "if a < 1:\n",
    "    print(\"You can only enter natural numbers!\")\n",
    "else:\n",
    "    for i in range( 1, a+1):\n",
    "        count += i**3\n",
    "        \n",
    "    print(count)"
   ]
  }
 ],
 "metadata": {
  "kernelspec": {
   "display_name": "Python 3",
   "language": "python",
   "name": "python3"
  },
  "language_info": {
   "codemirror_mode": {
    "name": "ipython",
    "version": 3
   },
   "file_extension": ".py",
   "mimetype": "text/x-python",
   "name": "python",
   "nbconvert_exporter": "python",
   "pygments_lexer": "ipython3",
   "version": "3.8.5"
  }
 },
 "nbformat": 4,
 "nbformat_minor": 4
}
