{
 "cells": [
  {
   "cell_type": "raw",
   "metadata": {},
   "source": [
    "1. Write a Python Program to Find LCM?\n",
    "Ans 1."
   ]
  },
  {
   "cell_type": "code",
   "execution_count": 1,
   "metadata": {},
   "outputs": [
    {
     "name": "stdout",
     "output_type": "stream",
     "text": [
      "Enter the first number: 8\n",
      "Enter the second number: 6\n",
      "24\n"
     ]
    }
   ],
   "source": [
    "x = int(input(\"Enter the first number: \"))\n",
    "y = int(input(\"Enter the second number: \"))\n",
    "\n",
    "if x > y:\n",
    "    greater = x\n",
    "else:\n",
    "    greater = y\n",
    "while(True):\n",
    "    if((greater % x == 0) and (greater % y == 0)):\n",
    "        lcm = greater\n",
    "        break\n",
    "    greater += 1\n",
    "print(lcm)"
   ]
  },
  {
   "cell_type": "raw",
   "metadata": {},
   "source": [
    "2. Write a Python Program to Find HCF?\n",
    "Ans 2."
   ]
  },
  {
   "cell_type": "code",
   "execution_count": 2,
   "metadata": {},
   "outputs": [
    {
     "name": "stdout",
     "output_type": "stream",
     "text": [
      "Enter the first number: 7\n",
      "Enter the second number: 10\n",
      "1\n"
     ]
    }
   ],
   "source": [
    "x = int(input(\"Enter the first number: \"))\n",
    "y = int(input(\"Enter the second number: \"))\n",
    "\n",
    "if x > y:\n",
    "    smaller = y\n",
    "else:\n",
    "    smaller = x\n",
    "for i in range( 1, smaller+1):\n",
    "    if((x % i == 0) and (y % i == 0)):\n",
    "        hcf = i\n",
    "print(hcf)"
   ]
  },
  {
   "cell_type": "raw",
   "metadata": {},
   "source": [
    "3. Write a Python Program to Convert Decimal to Binary, Octal and Hexadecimal?\n",
    "Ans 3."
   ]
  },
  {
   "cell_type": "code",
   "execution_count": 3,
   "metadata": {},
   "outputs": [
    {
     "name": "stdout",
     "output_type": "stream",
     "text": [
      "Enter decimal number: 354\n",
      "Value of 354 in binary is 0b101100010\n",
      "Value of 354 in octal is 0o542\n",
      "Value of 354 in Hexadecimal is 0x162\n"
     ]
    }
   ],
   "source": [
    "a = int(input(\"Enter decimal number: \"))\n",
    "\n",
    "print(f\"Value of {a} in binary is {bin(a)}\")\n",
    "print(f\"Value of {a} in octal is {oct(a)}\")\n",
    "print(f\"Value of {a} in Hexadecimal is {hex(a)}\")"
   ]
  },
  {
   "cell_type": "raw",
   "metadata": {},
   "source": [
    "4. Write a Python Program To Find ASCII value of a character?\n",
    "Ans 4."
   ]
  },
  {
   "cell_type": "code",
   "execution_count": 5,
   "metadata": {},
   "outputs": [
    {
     "name": "stdout",
     "output_type": "stream",
     "text": [
      "Enter any character: d\n",
      "The ASCII value of d is 100\n"
     ]
    }
   ],
   "source": [
    "a = input(\"Enter any character: \")\n",
    "print(f\"The ASCII value of {a} is {ord(a)}\")"
   ]
  },
  {
   "cell_type": "raw",
   "metadata": {},
   "source": [
    "5. Write a Python Program to Make a Simple Calculator with 4 basic mathematical operations?\n",
    "Ans 5."
   ]
  },
  {
   "cell_type": "code",
   "execution_count": 7,
   "metadata": {},
   "outputs": [
    {
     "name": "stdout",
     "output_type": "stream",
     "text": [
      "Enter the first number: 10\n",
      "Enter the second number: 5\n",
      "Addition of 10 and 5 gives 15\n",
      "Subtraction of 10 and 5 gives 5\n",
      "Multiplication of 10 and 5 gives 50\n",
      "Division of 10 and 5 gives 2.0\n"
     ]
    }
   ],
   "source": [
    "a = int(input(\"Enter the first number: \"))\n",
    "b = int(input(\"Enter the second number: \"))\n",
    "\n",
    "print(f\"Addition of {a} and {b} gives {a+b}\")\n",
    "print(f\"Subtraction of {a} and {b} gives {a-b}\")\n",
    "print(f\"Multiplication of {a} and {b} gives {a*b}\")\n",
    "print(f\"Division of {a} and {b} gives {a/b}\")"
   ]
  }
 ],
 "metadata": {
  "kernelspec": {
   "display_name": "Python 3",
   "language": "python",
   "name": "python3"
  },
  "language_info": {
   "codemirror_mode": {
    "name": "ipython",
    "version": 3
   },
   "file_extension": ".py",
   "mimetype": "text/x-python",
   "name": "python",
   "nbconvert_exporter": "python",
   "pygments_lexer": "ipython3",
   "version": "3.8.5"
  }
 },
 "nbformat": 4,
 "nbformat_minor": 4
}
