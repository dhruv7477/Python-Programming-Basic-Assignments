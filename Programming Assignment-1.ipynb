{
 "cells": [
  {
   "cell_type": "raw",
   "metadata": {},
   "source": [
    "1. Write a Python program to print \"Hello Python\" ?\n",
    "Ans 1. Answer is given below:-"
   ]
  },
  {
   "cell_type": "code",
   "execution_count": 1,
   "metadata": {},
   "outputs": [
    {
     "name": "stdout",
     "output_type": "stream",
     "text": [
      "Hello Python\n"
     ]
    }
   ],
   "source": [
    "print(\"Hello Python\")"
   ]
  },
  {
   "cell_type": "raw",
   "metadata": {},
   "source": [
    "2. Write a Python program to do arithmetical operations addition and division!\n",
    "Ans 2. Answer is given below:-"
   ]
  },
  {
   "cell_type": "code",
   "execution_count": 2,
   "metadata": {},
   "outputs": [
    {
     "name": "stdout",
     "output_type": "stream",
     "text": [
      "Write first number: 4\n",
      "Write second number: 2\n",
      "6 2.0\n"
     ]
    }
   ],
   "source": [
    "a = int(input(\"Write first number: \"))\n",
    "b = int(input(\"Write second number: \"))\n",
    "print( a+b, a/b)"
   ]
  },
  {
   "cell_type": "raw",
   "metadata": {},
   "source": [
    "3. Write a Python program to find the area of a triangle?\n",
    "Ans 3. Answer is given below:-"
   ]
  },
  {
   "cell_type": "code",
   "execution_count": 3,
   "metadata": {},
   "outputs": [
    {
     "name": "stdout",
     "output_type": "stream",
     "text": [
      "Enter the length of the base of triangle = 6\n",
      "Enter the length of the height of triangle = 3\n",
      "Area of triangle = 9.0 sq.units\n"
     ]
    }
   ],
   "source": [
    "b = int(input(\"Enter the length of the base of triangle = \"))\n",
    "h = int(input(\"Enter the length of the height of triangle = \"))\n",
    "print(f\"Area of triangle = {b*h/2} sq.units\")"
   ]
  },
  {
   "cell_type": "raw",
   "metadata": {},
   "source": [
    "4. Write a Python program to swap two variables?\n",
    "Ans 4. Answer is given below:-"
   ]
  },
  {
   "cell_type": "code",
   "execution_count": 5,
   "metadata": {},
   "outputs": [
    {
     "name": "stdout",
     "output_type": "stream",
     "text": [
      "Enter the value for first variable 'a' = 5\n",
      "Enter the value for second variable 'b'= 10\n",
      "a after swapping becomes 10\n",
      "b after swapping becomes 5\n"
     ]
    }
   ],
   "source": [
    "a = input(\"Enter the value for first variable 'a' = \")\n",
    "b = input(\"Enter the value for second variable 'b'= \")\n",
    "print(f\"a after swapping becomes {b}\")\n",
    "print(f\"b after swapping becomes {a}\")"
   ]
  },
  {
   "cell_type": "raw",
   "metadata": {},
   "source": [
    "5. Write a Python program to generate a random number?\n",
    "Ans 5. Answer is given below:-"
   ]
  },
  {
   "cell_type": "code",
   "execution_count": 6,
   "metadata": {},
   "outputs": [
    {
     "name": "stdout",
     "output_type": "stream",
     "text": [
      "6\n"
     ]
    }
   ],
   "source": [
    "import random\n",
    "print(random.randint(0,6))"
   ]
  }
 ],
 "metadata": {
  "kernelspec": {
   "display_name": "Python 3",
   "language": "python",
   "name": "python3"
  },
  "language_info": {
   "codemirror_mode": {
    "name": "ipython",
    "version": 3
   },
   "file_extension": ".py",
   "mimetype": "text/x-python",
   "name": "python",
   "nbconvert_exporter": "python",
   "pygments_lexer": "ipython3",
   "version": "3.8.5"
  }
 },
 "nbformat": 4,
 "nbformat_minor": 4
}
