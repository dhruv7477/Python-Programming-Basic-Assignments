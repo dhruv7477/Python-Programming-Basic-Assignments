{
 "cells": [
  {
   "cell_type": "raw",
   "metadata": {},
   "source": [
    "Q1. Write a Python Program to find sum of array?"
   ]
  },
  {
   "cell_type": "code",
   "execution_count": 1,
   "metadata": {},
   "outputs": [
    {
     "name": "stdout",
     "output_type": "stream",
     "text": [
      "75\n"
     ]
    }
   ],
   "source": [
    "#Ans1.\n",
    "l = [\"dfjo\",25, 5, 45, \"fjfnk\", True]\n",
    "count = 0\n",
    "try:\n",
    "    for i in range(len(l)):\n",
    "        if type(l[i]) == int:\n",
    "            count = count + l[i]\n",
    "        else:\n",
    "            pass\n",
    "    print(count)\n",
    "except Exception as e:\n",
    "    print(e)"
   ]
  },
  {
   "cell_type": "raw",
   "metadata": {},
   "source": [
    "Q2. Write a Python Program to find largest element in an array?"
   ]
  },
  {
   "cell_type": "code",
   "execution_count": 2,
   "metadata": {},
   "outputs": [
    {
     "name": "stdout",
     "output_type": "stream",
     "text": [
      "The greatest number in this list is 45\n"
     ]
    }
   ],
   "source": [
    "#Ans2.\n",
    "l = [\"dfjo\",25, 5, 45, \"fjfnk\", True]\n",
    "try:\n",
    "    for i in range(len(l)):\n",
    "        if type(l[i]) == int:\n",
    "            Max = l[i]\n",
    "            if Max > l[i]:\n",
    "                Max == l[i]\n",
    "            else:\n",
    "                pass\n",
    "        else:\n",
    "            pass\n",
    "    print(f\"The greatest number in this list is {Max}\")\n",
    "except Exception as e:\n",
    "    print(e)"
   ]
  },
  {
   "cell_type": "raw",
   "metadata": {},
   "source": [
    "Q3. Write a Python Program for array rotation?"
   ]
  },
  {
   "cell_type": "code",
   "execution_count": 3,
   "metadata": {},
   "outputs": [
    {
     "name": "stdout",
     "output_type": "stream",
     "text": [
      "[True, 'dfjo', 25, 5, 45, 'fjfnk']\n"
     ]
    }
   ],
   "source": [
    "#Ans 3.\n",
    "l = [\"dfjo\",25, 5, 45, \"fjfnk\", True]\n",
    "l1 = []\n",
    "try:\n",
    "    l1.append(l[-1])\n",
    "    for i in range(0,len(l)-1):\n",
    "        l1.append(l[i])\n",
    "except Exception as e:\n",
    "    print(e)\n",
    "else:\n",
    "    print(l1)"
   ]
  },
  {
   "cell_type": "raw",
   "metadata": {},
   "source": [
    "Q4. Write a Python Program to Split the array and add the first part to the end?"
   ]
  },
  {
   "cell_type": "code",
   "execution_count": 4,
   "metadata": {},
   "outputs": [
    {
     "name": "stdout",
     "output_type": "stream",
     "text": [
      "True, dfjo, 25, 5, 45, fjfnk, "
     ]
    }
   ],
   "source": [
    "#Ans 4.\n",
    "l = [\"dfjo\",25, 5, 45, \"fjfnk\", True]\n",
    "try:\n",
    "    print(f\"{l[-1]}\", end = \", \")\n",
    "    for i in range(len(l)-1):\n",
    "        print(f\"{l[i]}\", end=\", \")\n",
    "except Exception as e:\n",
    "    print(e)"
   ]
  },
  {
   "cell_type": "raw",
   "metadata": {},
   "source": [
    "Q5. Write a Python Program to check if given array is Monotonic?"
   ]
  },
  {
   "cell_type": "code",
   "execution_count": 5,
   "metadata": {},
   "outputs": [
    {
     "name": "stdout",
     "output_type": "stream",
     "text": [
      "The given array is monotonically increasing!\n"
     ]
    }
   ],
   "source": [
    "#Ans 5.\n",
    "l = [1,2,3,4,5]\n",
    "try:\n",
    "    if all(l[i] <= l[i+1] for i in range(len(l)-1)):\n",
    "        print(\"The given array is monotonically increasing!\")\n",
    "    elif all(l[i] >= l[i+1] for i in range(len(l)-1)):\n",
    "        print(\"The given array is monotonically decreasing!\")\n",
    "    else:\n",
    "        print(\"The given array is not monotonic!\")\n",
    "except Exception as e:\n",
    "    print(e)"
   ]
  }
 ],
 "metadata": {
  "kernelspec": {
   "display_name": "Python 3",
   "language": "python",
   "name": "python3"
  },
  "language_info": {
   "codemirror_mode": {
    "name": "ipython",
    "version": 3
   },
   "file_extension": ".py",
   "mimetype": "text/x-python",
   "name": "python",
   "nbconvert_exporter": "python",
   "pygments_lexer": "ipython3",
   "version": "3.8.5"
  }
 },
 "nbformat": 4,
 "nbformat_minor": 4
}
