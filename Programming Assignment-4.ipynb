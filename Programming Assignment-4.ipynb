{
 "cells": [
  {
   "cell_type": "raw",
   "metadata": {},
   "source": [
    "1. Write a Python Program to Find the Factorial of a Number?\n",
    "Ans 1."
   ]
  },
  {
   "cell_type": "code",
   "execution_count": 1,
   "metadata": {},
   "outputs": [
    {
     "name": "stdout",
     "output_type": "stream",
     "text": [
      "Enter the number for factorial :6\n",
      "Factorial of 6 is 720\n"
     ]
    }
   ],
   "source": [
    "a = int(input(\"Enter the number for factorial :\"))\n",
    "\n",
    "factorial = 1\n",
    "if a < 0:\n",
    "    print(\"You can't enter any negative numbers!\")\n",
    "elif a == 0:\n",
    "    print(\"Factorial of 0 is 1\")\n",
    "else:\n",
    "    for i in range ( 1, a+1):\n",
    "        factorial = factorial*i\n",
    "    print(f\"Factorial of {a} is {factorial}\")"
   ]
  },
  {
   "cell_type": "raw",
   "metadata": {},
   "source": [
    "2. Write a Python Program to Display the multiplication Table?\n",
    "Ans 2. "
   ]
  },
  {
   "cell_type": "code",
   "execution_count": 2,
   "metadata": {},
   "outputs": [
    {
     "name": "stdout",
     "output_type": "stream",
     "text": [
      "Enter the number for multiplication table :2\n",
      "2 * 1 = 2\n",
      "2 * 2 = 4\n",
      "2 * 3 = 6\n",
      "2 * 4 = 8\n",
      "2 * 5 = 10\n",
      "2 * 6 = 12\n",
      "2 * 7 = 14\n",
      "2 * 8 = 16\n",
      "2 * 9 = 18\n",
      "2 * 10 = 20\n"
     ]
    }
   ],
   "source": [
    "a = int(input(\"Enter the number for multiplication table :\"))\n",
    "for i in range(1,11):\n",
    "    print(f\"{a} * {i} = {a*i}\")"
   ]
  },
  {
   "cell_type": "raw",
   "metadata": {},
   "source": [
    "3. Write a Python Program to Print the Fibonacci sequence?\n",
    "Ans 3."
   ]
  },
  {
   "cell_type": "code",
   "execution_count": 3,
   "metadata": {},
   "outputs": [
    {
     "name": "stdout",
     "output_type": "stream",
     "text": [
      "Enter the number of terms you want:6\n",
      "Fibonacci series upto 6 terms: \n",
      "0\n",
      "1\n",
      "1\n",
      "2\n",
      "3\n",
      "5\n"
     ]
    }
   ],
   "source": [
    "a = int(input(\"Enter the number of terms you want:\"))\n",
    "n1, n2 = 0, 1\n",
    "count = 0\n",
    "if a <= 0:\n",
    "    print(\"You can only enter positive integers\")\n",
    "elif a == 1:\n",
    "    print(f\"Fibonacci series upto {a} terms: {n1}\")\n",
    "else:\n",
    "    print(f\"Fibonacci series upto {a} terms: \")\n",
    "    while count < a:\n",
    "        print(n1)\n",
    "        nth = n1 + n2\n",
    "        n1 = n2\n",
    "        n2 = nth\n",
    "        count += 1"
   ]
  },
  {
   "cell_type": "raw",
   "metadata": {},
   "source": [
    "4. Write a Python Program to Check Armstrong Number?\n",
    "Ans 4."
   ]
  },
  {
   "cell_type": "code",
   "execution_count": 4,
   "metadata": {},
   "outputs": [
    {
     "name": "stdout",
     "output_type": "stream",
     "text": [
      "Enter the number to check: 153\n",
      "153 is Armstrong number\n"
     ]
    }
   ],
   "source": [
    "a = int(input(\"Enter the number to check: \"))\n",
    "b = len(str(a))\n",
    "sum = 0\n",
    "temp = a\n",
    "while temp > 0:\n",
    "    digit = temp%10\n",
    "    sum += digit**b\n",
    "    temp //= 10\n",
    "    \n",
    "if a == sum:\n",
    "    print(f\"{a} is Armstrong number\")\n",
    "else:\n",
    "    print(f\"{a} is not an Armstrong number\")"
   ]
  },
  {
   "cell_type": "raw",
   "metadata": {},
   "source": [
    "5. Write a Python Program to Find Armstrong Number in an Interval?\n",
    "Ans 5."
   ]
  },
  {
   "cell_type": "code",
   "execution_count": 5,
   "metadata": {},
   "outputs": [
    {
     "name": "stdout",
     "output_type": "stream",
     "text": [
      "Enter the first number: 0\n",
      "Enter the second number: 1000\n",
      "0\n",
      "1\n",
      "2\n",
      "3\n",
      "4\n",
      "5\n",
      "6\n",
      "7\n",
      "8\n",
      "9\n",
      "153\n",
      "370\n",
      "371\n",
      "407\n"
     ]
    }
   ],
   "source": [
    "a = int(input(\"Enter the first number: \"))\n",
    "b = int(input(\"Enter the second number: \"))\n",
    "for i in range(a, b+1):\n",
    "    order = len(str(i))\n",
    "    sum = 0\n",
    "    temp = i\n",
    "    while temp > 0:\n",
    "        digit = temp%10\n",
    "        sum += digit**order\n",
    "        temp //= 10\n",
    "        \n",
    "    if i == sum:\n",
    "        print(i)"
   ]
  },
  {
   "cell_type": "raw",
   "metadata": {},
   "source": [
    "6. Write a Python Program to Find the Sum of Natural Numbers?\n",
    "Ans 6."
   ]
  },
  {
   "cell_type": "code",
   "execution_count": 7,
   "metadata": {},
   "outputs": [
    {
     "name": "stdout",
     "output_type": "stream",
     "text": [
      "Enter the no. upto which you want to find the summ of natural no.s: 5\n",
      "The sum is 15\n"
     ]
    }
   ],
   "source": [
    "n = int(input(\"Enter the no. upto which you want to find the summ of natural no.s: \"))\n",
    "if n < 1:\n",
    "    print(\"Enter a natural number!\")\n",
    "else:\n",
    "    sum = 0\n",
    "    while(n > 0):\n",
    "        sum += n\n",
    "        n -= 1\n",
    "    print(f\"The sum is {sum}\")"
   ]
  }
 ],
 "metadata": {
  "kernelspec": {
   "display_name": "Python 3",
   "language": "python",
   "name": "python3"
  },
  "language_info": {
   "codemirror_mode": {
    "name": "ipython",
    "version": 3
   },
   "file_extension": ".py",
   "mimetype": "text/x-python",
   "name": "python",
   "nbconvert_exporter": "python",
   "pygments_lexer": "ipython3",
   "version": "3.8.5"
  }
 },
 "nbformat": 4,
 "nbformat_minor": 4
}
